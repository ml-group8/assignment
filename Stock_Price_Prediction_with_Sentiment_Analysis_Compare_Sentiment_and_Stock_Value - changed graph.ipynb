{
 "cells": [
  {
   "cell_type": "markdown",
   "metadata": {
    "colab_type": "text",
    "id": "view-in-github"
   },
   "source": [
    "<a href=\"https://colab.research.google.com/github/ml-group8/assignment/blob/main/Stock_Price_Prediction_with_Sentiment_Analysis_Compare_Sentiment_and_Stock_Value.ipynb\" target=\"_parent\"><img src=\"https://colab.research.google.com/assets/colab-badge.svg\" alt=\"Open In Colab\"/></a>"
   ]
  },
  {
   "cell_type": "code",
   "execution_count": 1,
   "metadata": {
    "colab": {
     "base_uri": "https://localhost:8080/"
    },
    "id": "hSSd_g-0BsBE",
    "outputId": "00b758c0-81c0-4db8-d481-e5a6f2f8c067"
   },
   "outputs": [],
   "source": [
    "#pip install yfinance"
   ]
  },
  {
   "cell_type": "code",
   "execution_count": 2,
   "metadata": {
    "id": "EA5eIQffBs-S"
   },
   "outputs": [],
   "source": [
    "import pandas as pd\n",
    "import numpy as np\n",
    "import requests\n",
    "import json\n",
    "import ast\n",
    "import yaml\n",
    "import urllib\n",
    "import yfinance\n",
    "from datetime import datetime, timedelta\n",
    "import matplotlib.pyplot as plt\n",
    "#from google.colab import drive"
   ]
  },
  {
   "cell_type": "code",
   "execution_count": 3,
   "metadata": {
    "colab": {
     "base_uri": "https://localhost:8080/"
    },
    "id": "LPJrOsc9CKA-",
    "outputId": "84749d86-f8bb-459f-b763-bf2cd24f4ca4"
   },
   "outputs": [
    {
     "name": "stdout",
     "output_type": "stream",
     "text": [
      "2021-03-13 17:00:00\n",
      "2021-03-20 15:00:00\n"
     ]
    }
   ],
   "source": [
    "df_tweets = pd.read_csv('https://raw.githubusercontent.com/ml-group8/assignment/main/df_tweets_sentiment.csv')\n",
    "# Keep only required columns\n",
    "df_tweets = df_tweets[['created_at', 'id', 'tweet', 'sentiment', 'confidence']]\n",
    "\n",
    "# Convert created_at column from string to datetime\n",
    "def string_to_datetime(str_date):\n",
    "  str_date = str_date[:19]\n",
    "  return datetime.strptime(str_date, \"%Y-%m-%dT%H:%M:%S\")\n",
    "\n",
    "df_tweets['created_at'] = df_tweets['created_at'].map(lambda strDateTime: string_to_datetime(strDateTime))\n",
    "\n",
    "max_date_tweets = df_tweets['created_at'].max().replace(minute=0, second=0, microsecond=0)\n",
    "min_date_tweets = df_tweets['created_at'].min().replace(minute=0, second=0, microsecond=0)\n",
    "\n",
    "#df_tweets\n",
    "print(min_date_tweets)\n",
    "print(max_date_tweets)"
   ]
  },
  {
   "cell_type": "code",
   "execution_count": 4,
   "metadata": {
    "colab": {
     "base_uri": "https://localhost:8080/",
     "height": 226
    },
    "id": "cc1IGEiHB5WC",
    "outputId": "8d4c39e1-4deb-45ef-d1ea-712720d28f53"
   },
   "outputs": [
    {
     "data": {
      "text/html": [
       "<div>\n",
       "<style scoped>\n",
       "    .dataframe tbody tr th:only-of-type {\n",
       "        vertical-align: middle;\n",
       "    }\n",
       "\n",
       "    .dataframe tbody tr th {\n",
       "        vertical-align: top;\n",
       "    }\n",
       "\n",
       "    .dataframe thead th {\n",
       "        text-align: right;\n",
       "    }\n",
       "</style>\n",
       "<table border=\"1\" class=\"dataframe\">\n",
       "  <thead>\n",
       "    <tr style=\"text-align: right;\">\n",
       "      <th></th>\n",
       "      <th>Datetime</th>\n",
       "      <th>Open</th>\n",
       "      <th>High</th>\n",
       "      <th>Low</th>\n",
       "      <th>Close</th>\n",
       "      <th>Volume</th>\n",
       "      <th>Dividends</th>\n",
       "      <th>Stock Splits</th>\n",
       "    </tr>\n",
       "    <tr>\n",
       "      <th>DatetimeUTC</th>\n",
       "      <th></th>\n",
       "      <th></th>\n",
       "      <th></th>\n",
       "      <th></th>\n",
       "      <th></th>\n",
       "      <th></th>\n",
       "      <th></th>\n",
       "      <th></th>\n",
       "    </tr>\n",
       "  </thead>\n",
       "  <tbody>\n",
       "    <tr>\n",
       "      <td>2021-03-15 13:30:00+00:00</td>\n",
       "      <td>2021-03-15 09:30:00-04:00</td>\n",
       "      <td>27.338800</td>\n",
       "      <td>27.450001</td>\n",
       "      <td>27.260000</td>\n",
       "      <td>27.389999</td>\n",
       "      <td>161430</td>\n",
       "      <td>0</td>\n",
       "      <td>0</td>\n",
       "    </tr>\n",
       "    <tr>\n",
       "      <td>2021-03-15 14:30:00+00:00</td>\n",
       "      <td>2021-03-15 10:30:00-04:00</td>\n",
       "      <td>27.409201</td>\n",
       "      <td>27.450001</td>\n",
       "      <td>27.270000</td>\n",
       "      <td>27.270000</td>\n",
       "      <td>47716</td>\n",
       "      <td>0</td>\n",
       "      <td>0</td>\n",
       "    </tr>\n",
       "    <tr>\n",
       "      <td>2021-03-15 15:30:00+00:00</td>\n",
       "      <td>2021-03-15 11:30:00-04:00</td>\n",
       "      <td>27.264400</td>\n",
       "      <td>27.320000</td>\n",
       "      <td>27.180000</td>\n",
       "      <td>27.299999</td>\n",
       "      <td>47115</td>\n",
       "      <td>0</td>\n",
       "      <td>0</td>\n",
       "    </tr>\n",
       "    <tr>\n",
       "      <td>2021-03-15 16:30:00+00:00</td>\n",
       "      <td>2021-03-15 12:30:00-04:00</td>\n",
       "      <td>27.306000</td>\n",
       "      <td>27.349501</td>\n",
       "      <td>27.299999</td>\n",
       "      <td>27.329000</td>\n",
       "      <td>26073</td>\n",
       "      <td>0</td>\n",
       "      <td>0</td>\n",
       "    </tr>\n",
       "    <tr>\n",
       "      <td>2021-03-15 17:30:00+00:00</td>\n",
       "      <td>2021-03-15 13:30:00-04:00</td>\n",
       "      <td>27.330000</td>\n",
       "      <td>27.429800</td>\n",
       "      <td>27.309999</td>\n",
       "      <td>27.419901</td>\n",
       "      <td>47720</td>\n",
       "      <td>0</td>\n",
       "      <td>0</td>\n",
       "    </tr>\n",
       "  </tbody>\n",
       "</table>\n",
       "</div>"
      ],
      "text/plain": [
       "                                           Datetime       Open       High  \\\n",
       "DatetimeUTC                                                                 \n",
       "2021-03-15 13:30:00+00:00 2021-03-15 09:30:00-04:00  27.338800  27.450001   \n",
       "2021-03-15 14:30:00+00:00 2021-03-15 10:30:00-04:00  27.409201  27.450001   \n",
       "2021-03-15 15:30:00+00:00 2021-03-15 11:30:00-04:00  27.264400  27.320000   \n",
       "2021-03-15 16:30:00+00:00 2021-03-15 12:30:00-04:00  27.306000  27.349501   \n",
       "2021-03-15 17:30:00+00:00 2021-03-15 13:30:00-04:00  27.330000  27.429800   \n",
       "\n",
       "                                 Low      Close  Volume  Dividends  \\\n",
       "DatetimeUTC                                                          \n",
       "2021-03-15 13:30:00+00:00  27.260000  27.389999  161430          0   \n",
       "2021-03-15 14:30:00+00:00  27.270000  27.270000   47716          0   \n",
       "2021-03-15 15:30:00+00:00  27.180000  27.299999   47115          0   \n",
       "2021-03-15 16:30:00+00:00  27.299999  27.329000   26073          0   \n",
       "2021-03-15 17:30:00+00:00  27.309999  27.419901   47720          0   \n",
       "\n",
       "                           Stock Splits  \n",
       "DatetimeUTC                              \n",
       "2021-03-15 13:30:00+00:00             0  \n",
       "2021-03-15 14:30:00+00:00             0  \n",
       "2021-03-15 15:30:00+00:00             0  \n",
       "2021-03-15 16:30:00+00:00             0  \n",
       "2021-03-15 17:30:00+00:00             0  "
      ]
     },
     "execution_count": 4,
     "metadata": {},
     "output_type": "execute_result"
    }
   ],
   "source": [
    "from datetime import datetime, timedelta, timezone\n",
    "\n",
    "#A/p the yfinance docs, Note: yahoo finance datetimes are received as UTC.\n",
    "#however when visualizing the df the Datetime field is UTC-4 ???\n",
    "drive_etf_ticker = yfinance.Ticker(\"DRIV\")\n",
    "drive_etf = drive_etf_ticker.history(\n",
    "    start=min_date_tweets.strftime('%Y-%m-%d'),\n",
    "    end=max_date_tweets.strftime('%Y-%m-%d'),\n",
    "    interval='60m'\n",
    ").reset_index()\n",
    "\n",
    "# The Yahoo finance are in EST so convert them to UTC to match the tweets' timezone\n",
    "drive_etf['DatetimeUTC'] = drive_etf['Datetime'].dt.tz_convert('UTC')\n",
    "\n",
    "#set new UTC datetime as the index, we can visually compare to the original column to see the timezone correction\n",
    "drive_etf.index = drive_etf['DatetimeUTC']\n",
    "del drive_etf['DatetimeUTC']\n",
    "\n",
    "drive_etf.head()"
   ]
  },
  {
   "cell_type": "code",
   "execution_count": 5,
   "metadata": {
    "colab": {
     "base_uri": "https://localhost:8080/",
     "height": 226
    },
    "id": "DyLEK96bgvmQ",
    "outputId": "47427a11-96dd-4c06-9491-42ca375a1676"
   },
   "outputs": [
    {
     "data": {
      "text/html": [
       "<div>\n",
       "<style scoped>\n",
       "    .dataframe tbody tr th:only-of-type {\n",
       "        vertical-align: middle;\n",
       "    }\n",
       "\n",
       "    .dataframe tbody tr th {\n",
       "        vertical-align: top;\n",
       "    }\n",
       "\n",
       "    .dataframe thead th {\n",
       "        text-align: right;\n",
       "    }\n",
       "</style>\n",
       "<table border=\"1\" class=\"dataframe\">\n",
       "  <thead>\n",
       "    <tr style=\"text-align: right;\">\n",
       "      <th></th>\n",
       "      <th>Open</th>\n",
       "      <th>High</th>\n",
       "      <th>Low</th>\n",
       "      <th>Close</th>\n",
       "      <th>Volume</th>\n",
       "      <th>Dividends</th>\n",
       "      <th>Stock Splits</th>\n",
       "    </tr>\n",
       "    <tr>\n",
       "      <th>DatetimeUTC</th>\n",
       "      <th></th>\n",
       "      <th></th>\n",
       "      <th></th>\n",
       "      <th></th>\n",
       "      <th></th>\n",
       "      <th></th>\n",
       "      <th></th>\n",
       "    </tr>\n",
       "  </thead>\n",
       "  <tbody>\n",
       "    <tr>\n",
       "      <td>2021-03-15 13:30:00+00:00</td>\n",
       "      <td>27.338800</td>\n",
       "      <td>27.450001</td>\n",
       "      <td>27.260000</td>\n",
       "      <td>27.389999</td>\n",
       "      <td>161430</td>\n",
       "      <td>0</td>\n",
       "      <td>0</td>\n",
       "    </tr>\n",
       "    <tr>\n",
       "      <td>2021-03-15 14:30:00+00:00</td>\n",
       "      <td>27.409201</td>\n",
       "      <td>27.450001</td>\n",
       "      <td>27.270000</td>\n",
       "      <td>27.270000</td>\n",
       "      <td>47716</td>\n",
       "      <td>0</td>\n",
       "      <td>0</td>\n",
       "    </tr>\n",
       "    <tr>\n",
       "      <td>2021-03-15 15:30:00+00:00</td>\n",
       "      <td>27.264400</td>\n",
       "      <td>27.320000</td>\n",
       "      <td>27.180000</td>\n",
       "      <td>27.299999</td>\n",
       "      <td>47115</td>\n",
       "      <td>0</td>\n",
       "      <td>0</td>\n",
       "    </tr>\n",
       "    <tr>\n",
       "      <td>2021-03-15 16:30:00+00:00</td>\n",
       "      <td>27.306000</td>\n",
       "      <td>27.349501</td>\n",
       "      <td>27.299999</td>\n",
       "      <td>27.329000</td>\n",
       "      <td>26073</td>\n",
       "      <td>0</td>\n",
       "      <td>0</td>\n",
       "    </tr>\n",
       "    <tr>\n",
       "      <td>2021-03-15 17:30:00+00:00</td>\n",
       "      <td>27.330000</td>\n",
       "      <td>27.429800</td>\n",
       "      <td>27.309999</td>\n",
       "      <td>27.419901</td>\n",
       "      <td>47720</td>\n",
       "      <td>0</td>\n",
       "      <td>0</td>\n",
       "    </tr>\n",
       "  </tbody>\n",
       "</table>\n",
       "</div>"
      ],
      "text/plain": [
       "                                Open       High        Low      Close  Volume  \\\n",
       "DatetimeUTC                                                                     \n",
       "2021-03-15 13:30:00+00:00  27.338800  27.450001  27.260000  27.389999  161430   \n",
       "2021-03-15 14:30:00+00:00  27.409201  27.450001  27.270000  27.270000   47716   \n",
       "2021-03-15 15:30:00+00:00  27.264400  27.320000  27.180000  27.299999   47115   \n",
       "2021-03-15 16:30:00+00:00  27.306000  27.349501  27.299999  27.329000   26073   \n",
       "2021-03-15 17:30:00+00:00  27.330000  27.429800  27.309999  27.419901   47720   \n",
       "\n",
       "                           Dividends  Stock Splits  \n",
       "DatetimeUTC                                         \n",
       "2021-03-15 13:30:00+00:00          0             0  \n",
       "2021-03-15 14:30:00+00:00          0             0  \n",
       "2021-03-15 15:30:00+00:00          0             0  \n",
       "2021-03-15 16:30:00+00:00          0             0  \n",
       "2021-03-15 17:30:00+00:00          0             0  "
      ]
     },
     "execution_count": 5,
     "metadata": {},
     "output_type": "execute_result"
    }
   ],
   "source": [
    "# Remove the non-UTC Datetime\n",
    "del drive_etf['Datetime']\n",
    "drive_etf.head()"
   ]
  },
  {
   "cell_type": "code",
   "execution_count": 6,
   "metadata": {
    "id": "t2lsyCWLZECD"
   },
   "outputs": [],
   "source": [
    "# The stock market, unlike Twitter, is closed on weekend so we have gaps in our stock time series relative to our tweets\n",
    "# We'll patch those gaps with interpolation\n",
    "# TODO: Use after hours data if possible ???\n",
    "\n",
    "#drive_etf.groupby('DatetimeUTC').resample('H')"
   ]
  },
  {
   "cell_type": "code",
   "execution_count": 7,
   "metadata": {
    "colab": {
     "base_uri": "https://localhost:8080/",
     "height": 226
    },
    "id": "MxDdntVKy66v",
    "outputId": "00cd9f1c-b20e-40c2-ab1f-c462894cb169"
   },
   "outputs": [
    {
     "data": {
      "text/html": [
       "<div>\n",
       "<style scoped>\n",
       "    .dataframe tbody tr th:only-of-type {\n",
       "        vertical-align: middle;\n",
       "    }\n",
       "\n",
       "    .dataframe tbody tr th {\n",
       "        vertical-align: top;\n",
       "    }\n",
       "\n",
       "    .dataframe thead th {\n",
       "        text-align: right;\n",
       "    }\n",
       "</style>\n",
       "<table border=\"1\" class=\"dataframe\">\n",
       "  <thead>\n",
       "    <tr style=\"text-align: right;\">\n",
       "      <th></th>\n",
       "      <th>nb_positive</th>\n",
       "      <th>nb_negative</th>\n",
       "      <th>positive_ratio</th>\n",
       "    </tr>\n",
       "    <tr>\n",
       "      <th>created_at</th>\n",
       "      <th></th>\n",
       "      <th></th>\n",
       "      <th></th>\n",
       "    </tr>\n",
       "  </thead>\n",
       "  <tbody>\n",
       "    <tr>\n",
       "      <td>2021-03-13 17:00:00</td>\n",
       "      <td>51</td>\n",
       "      <td>20</td>\n",
       "      <td>0.718310</td>\n",
       "    </tr>\n",
       "    <tr>\n",
       "      <td>2021-03-13 18:00:00</td>\n",
       "      <td>51</td>\n",
       "      <td>43</td>\n",
       "      <td>0.542553</td>\n",
       "    </tr>\n",
       "    <tr>\n",
       "      <td>2021-03-13 19:00:00</td>\n",
       "      <td>77</td>\n",
       "      <td>23</td>\n",
       "      <td>0.770000</td>\n",
       "    </tr>\n",
       "    <tr>\n",
       "      <td>2021-03-13 20:00:00</td>\n",
       "      <td>80</td>\n",
       "      <td>20</td>\n",
       "      <td>0.800000</td>\n",
       "    </tr>\n",
       "    <tr>\n",
       "      <td>2021-03-13 21:00:00</td>\n",
       "      <td>73</td>\n",
       "      <td>26</td>\n",
       "      <td>0.737374</td>\n",
       "    </tr>\n",
       "  </tbody>\n",
       "</table>\n",
       "</div>"
      ],
      "text/plain": [
       "                     nb_positive  nb_negative  positive_ratio\n",
       "created_at                                                   \n",
       "2021-03-13 17:00:00           51           20        0.718310\n",
       "2021-03-13 18:00:00           51           43        0.542553\n",
       "2021-03-13 19:00:00           77           23        0.770000\n",
       "2021-03-13 20:00:00           80           20        0.800000\n",
       "2021-03-13 21:00:00           73           26        0.737374"
      ]
     },
     "execution_count": 7,
     "metadata": {},
     "output_type": "execute_result"
    }
   ],
   "source": [
    "# ETF \n",
    "# min: 2021-03-15 13:30\n",
    "# max: 2021-03-19 19:30\n",
    "\n",
    "# Tweets\n",
    "# Min: 2021-03-13 17:00:02\n",
    "# Max: 2021-03-20 15:59:46\n",
    "\n",
    "# Convert sentiment to numeric (Positive=1, negative=0)\n",
    "df_tweets['numeric_sentiment'] = np.where(df_tweets['sentiment'] == 'POSITIVE', 1, 0)\n",
    "\n",
    "# Truncate created_at to the hour\n",
    "df_tweets['created_at'] = df_tweets['created_at'].map(lambda created_at: created_at.replace(minute=0, second=0, microsecond=0))\n",
    "\n",
    "df_tweets\n",
    "df_grouped = df_tweets.groupby([\"created_at\", \"numeric_sentiment\"]).size()\n",
    "#df_grouped['positive'] = np.where(df_grouped['numeric_sentiment'] == 1, 1, 0)\n",
    "#df_grouped['negative'] = np.where(df_grouped['numeric_sentiment'] == 0, 1, 0)\n",
    "\n",
    "\n",
    "# count positive and negative tweets and convert them into a ratio of positive tweets to total tweets\n",
    "df_grouped = df_tweets.assign(\n",
    " nb_positive = np.where(df_tweets['numeric_sentiment']==1,1,0),\n",
    " nb_negative = np.where(df_tweets['numeric_sentiment']==0,1,0)\n",
    "  ).groupby('created_at').agg({'nb_positive':sum, 'nb_negative':sum})\n",
    "\n",
    "df_grouped['positive_ratio'] = df_grouped['nb_positive']/(df_grouped['nb_positive'] + df_grouped['nb_negative'])\n",
    "df_grouped.head()\n",
    "#TODO: Maybe remove re=tweets (RT : prefix ???)\n",
    "# TODO: Plug holes with after-hours info ???"
   ]
  },
  {
   "cell_type": "code",
   "execution_count": 8,
   "metadata": {
    "colab": {
     "base_uri": "https://localhost:8080/",
     "height": 609
    },
    "id": "6vzU4txyhM3b",
    "outputId": "093fd429-42d9-4b2c-fe54-42f0233cb8c7"
   },
   "outputs": [
    {
     "name": "stderr",
     "output_type": "stream",
     "text": [
      "C:\\Users\\Vida\\Anaconda3\\lib\\site-packages\\pandas\\plotting\\_matplotlib\\converter.py:103: FutureWarning: Using an implicitly registered datetime converter for a matplotlib plotting method. The converter was registered by pandas on import. Future versions of pandas will require you to explicitly register matplotlib converters.\n",
      "\n",
      "To register the converters:\n",
      "\t>>> from pandas.plotting import register_matplotlib_converters\n",
      "\t>>> register_matplotlib_converters()\n",
      "  warnings.warn(msg, FutureWarning)\n"
     ]
    },
    {
     "data": {
      "text/plain": [
       "Text(0, 0.5, 'Sentiment positive ratio')"
      ]
     },
     "execution_count": 8,
     "metadata": {},
     "output_type": "execute_result"
    },
    {
     "data": {
      "image/png": "[encoded data removed]",
      "text/plain": [
       "<Figure size 360x180 with 2 Axes>"
      ]
     },
     "metadata": {
      "needs_background": "light"
     },
     "output_type": "display_data"
    }
   ],
   "source": [
    "plt.rcParams['figure.figsize']=(5,2.5) # set the figure size\n",
    "plt.rcParams.update({'font.size': 12})\n",
    "fig, ax1 = plt.subplots()\n",
    "ax2 = ax1.twinx()  # set up the 2nd axis\n",
    "ax1.plot(drive_etf['High'], color='red', linewidth=2.5)\n",
    "ax1.set_xlabel('Datetime', fontweight='bold')\n",
    "ax1.set_xticklabels(ax1.get_xticklabels(), rotation=45)\n",
    "ax1.set_ylabel('DRIV stock price', fontweight='bold')\n",
    "ax2.plot(df_grouped['positive_ratio'], color='royalblue') \n",
    "ax2.set_ylabel('Sentiment positive ratio', fontweight='bold')"
   ]
  }
 ],
 "metadata": {
  "colab": {
   "authorship_tag": "ABX9TyNQ1vrdrf+CtGUtQxypiGSI",
   "collapsed_sections": [],
   "include_colab_link": true,
   "name": "Stock Price Prediction with Sentiment Analysis - Compare Sentiment and Stock Value.ipynb",
   "provenance": []
  },
  "kernelspec": {
   "display_name": "Python 3",
   "language": "python",
   "name": "python3"
  },
  "language_info": {
   "codemirror_mode": {
    "name": "ipython",
    "version": 3
   },
   "file_extension": ".py",
   "mimetype": "text/x-python",
   "name": "python",
   "nbconvert_exporter": "python",
   "pygments_lexer": "ipython3",
   "version": "3.7.4"
  }
 },
 "nbformat": 4,
 "nbformat_minor": 1
}
