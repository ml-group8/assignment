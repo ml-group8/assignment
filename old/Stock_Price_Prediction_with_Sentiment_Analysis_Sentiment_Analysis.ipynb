{
  "nbformat": 4,
  "nbformat_minor": 0,
  "metadata": {
    "colab": {
      "name": "Stock Price Prediction with Sentiment Analysis - Sentiment Analysis.ipynb",
      "provenance": [],
      "collapsed_sections": [],
      "authorship_tag": "ABX9TyPTQGi6orza0Y2o6sXNyHo6",
      "include_colab_link": true
    },
    "kernelspec": {
      "name": "python3",
      "display_name": "Python 3"
    },
    "language_info": {
      "name": "python"
    }
  },
  "cells": [
    {
      "cell_type": "markdown",
      "metadata": {
        "id": "view-in-github",
        "colab_type": "text"
      },
      "source": [
        "<a href=\"https://colab.research.google.com/github/ml-group8/assignment/blob/main/Stock_Price_Prediction_with_Sentiment_Analysis_Sentiment_Analysis.ipynb\" target=\"_parent\"><img src=\"https://colab.research.google.com/assets/colab-badge.svg\" alt=\"Open In Colab\"/></a>"
      ]
    },
    {
      "cell_type": "code",
      "metadata": {
        "id": "KAmnkWCMWmB5"
      },
      "source": [
        "import pandas as pd\n",
        "import requests\n",
        "import json\n",
        "import ast\n",
        "import yaml\n",
        "import urllib\n",
        "from datetime import datetime, timedelta\n",
        "from google.colab import drive\n",
        "import re\n",
        "\n",
        "!pip install flair\n",
        "import flair"
      ],
      "execution_count": null,
      "outputs": []
    },
    {
      "cell_type": "code",
      "metadata": {
        "id": "JkCAKWPgWvG7"
      },
      "source": [
        "sentiment_model = flair.models.TextClassifier.load('en-sentiment')"
      ],
      "execution_count": null,
      "outputs": []
    },
    {
      "cell_type": "code",
      "metadata": {
        "colab": {
          "base_uri": "https://localhost:8080/",
          "height": 196
        },
        "id": "IxCUYwqqVDSN",
        "outputId": "2e3ed808-b7a8-4a91-e469-60e1b65da1b1"
      },
      "source": [
        "# TODO: There should be a better way to do this , existing library ??\n",
        "# Load tweets we extracted from running the previous notebook and had stored on github\n",
        "\n",
        "# TODO: Tweets may contain re-tweets - can we remove with suggestion from \n",
        "#   https://twittercommunity.com/t/how-do-i-get-full-tweet-text-in-v2/142129/3\n",
        "df_tweets = pd.read_csv('https://raw.githubusercontent.com/ml-group8/assignment/main/elec_vehicle_tweets.csv')\n",
        "df_tweets.drop(df_tweets.columns[0], axis=1, inplace=True)\n",
        "df_tweets.drop(df_tweets.columns[3], axis=1, inplace=True)\n",
        "df_tweets.head()\n",
        "\n"
      ],
      "execution_count": null,
      "outputs": [
        {
          "output_type": "execute_result",
          "data": {
            "text/html": [
              "<div>\n",
              "<style scoped>\n",
              "    .dataframe tbody tr th:only-of-type {\n",
              "        vertical-align: middle;\n",
              "    }\n",
              "\n",
              "    .dataframe tbody tr th {\n",
              "        vertical-align: top;\n",
              "    }\n",
              "\n",
              "    .dataframe thead th {\n",
              "        text-align: right;\n",
              "    }\n",
              "</style>\n",
              "<table border=\"1\" class=\"dataframe\">\n",
              "  <thead>\n",
              "    <tr style=\"text-align: right;\">\n",
              "      <th></th>\n",
              "      <th>created_at</th>\n",
              "      <th>id</th>\n",
              "      <th>text</th>\n",
              "    </tr>\n",
              "  </thead>\n",
              "  <tbody>\n",
              "    <tr>\n",
              "      <th>0</th>\n",
              "      <td>2021-03-20T15:59:46.000Z</td>\n",
              "      <td>1373303259964788740</td>\n",
              "      <td>@QuestMalloy I agree. I was looking to buy an ...</td>\n",
              "    </tr>\n",
              "    <tr>\n",
              "      <th>1</th>\n",
              "      <td>2021-03-20T15:59:30.000Z</td>\n",
              "      <td>1373303194202353670</td>\n",
              "      <td>RT @JessiSheron: this line read is so funny!??...</td>\n",
              "    </tr>\n",
              "    <tr>\n",
              "      <th>2</th>\n",
              "      <td>2021-03-20T15:59:09.000Z</td>\n",
              "      <td>1373303103202725897</td>\n",
              "      <td>RT @JessiSheron: this line read is so funny!??...</td>\n",
              "    </tr>\n",
              "    <tr>\n",
              "      <th>3</th>\n",
              "      <td>2021-03-20T15:59:03.000Z</td>\n",
              "      <td>1373303077697126401</td>\n",
              "      <td>@wef Germany electric car and 60% US states ma...</td>\n",
              "    </tr>\n",
              "    <tr>\n",
              "      <th>4</th>\n",
              "      <td>2021-03-20T15:58:49.000Z</td>\n",
              "      <td>1373303019287248902</td>\n",
              "      <td>@Greenpeace Germany electric car and 60% US st...</td>\n",
              "    </tr>\n",
              "  </tbody>\n",
              "</table>\n",
              "</div>"
            ],
            "text/plain": [
              "                 created_at  ...                                               text\n",
              "0  2021-03-20T15:59:46.000Z  ...  @QuestMalloy I agree. I was looking to buy an ...\n",
              "1  2021-03-20T15:59:30.000Z  ...  RT @JessiSheron: this line read is so funny!??...\n",
              "2  2021-03-20T15:59:09.000Z  ...  RT @JessiSheron: this line read is so funny!??...\n",
              "3  2021-03-20T15:59:03.000Z  ...  @wef Germany electric car and 60% US states ma...\n",
              "4  2021-03-20T15:58:49.000Z  ...  @Greenpeace Germany electric car and 60% US st...\n",
              "\n",
              "[5 rows x 3 columns]"
            ]
          },
          "metadata": {
            "tags": []
          },
          "execution_count": 11
        }
      ]
    },
    {
      "cell_type": "code",
      "metadata": {
        "id": "qvEO-kyrfSA1"
      },
      "source": [
        "drive.mount('/content/gdrive', force_remount=True)"
      ],
      "execution_count": null,
      "outputs": []
    },
    {
      "cell_type": "code",
      "metadata": {
        "colab": {
          "base_uri": "https://localhost:8080/"
        },
        "id": "tFMZyAxefbbz",
        "outputId": "ad17c9ba-8ac0-43c1-80f5-e1190359b8bc"
      },
      "source": [
        "cd /content/gdrive/MyDrive"
      ],
      "execution_count": 25,
      "outputs": [
        {
          "output_type": "stream",
          "text": [
            "/content/gdrive/MyDrive\n"
          ],
          "name": "stdout"
        }
      ]
    },
    {
      "cell_type": "code",
      "metadata": {
        "colab": {
          "base_uri": "https://localhost:8080/"
        },
        "id": "JkpKbWclXenp",
        "outputId": "2d195995-3486-46d2-a14d-42bb7095544f"
      },
      "source": [
        "# Process the tweets \n",
        "whitespace = re.compile(r\"\\s+\")\n",
        "web_address = re.compile(r\"(?i)http(s):\\/\\/[a-z0-9.~_\\-\\/]+\")\n",
        "tesla = re.compile(r\"(?i)@Tesla(?=\\b)\")\n",
        "user = re.compile(r\"(?i)@[a-z0-9_]+\")\n",
        "\n",
        "def clean_tweet(tweet):\n",
        "  tweet = whitespace.sub(' ', tweet)\n",
        "  tweet = web_address.sub('', tweet)\n",
        "  tweet = tesla.sub('Tesla', tweet)\n",
        "  tweet = user.sub('', tweet)\n",
        "  return tweet\n",
        "\n",
        "def predict_sentiment(tweet):\n",
        "  type(tweet)\n",
        "  sentence = flair.data.Sentence(tweet)\n",
        "  sentiment_model.predict(sentence)\n",
        "  label = sentence.labels[0]\n",
        "  return (label.value, label.score)\n",
        "\n",
        "def assign_sentiment_and_score(df):\n",
        "  for idx, row in df.iterrows():\n",
        "    sentiment_analysis = predict_sentiment(df.at[idx,'tweet'])\n",
        "    df.at[idx,'sentiment'] = sentiment_analysis[0]\n",
        "    df.at[idx,'confidence'] = sentiment_analysis[1]\n",
        "\n",
        "df_tweets['tweet'] = df_tweets['text'].map(lambda text: clean_tweet(text))\n",
        "\n",
        "print('Sentiment analysis starting at : ' + str(datetime.now()))\n",
        "assign_sentiment_and_score(df_tweets)\n",
        "df_tweets.to_csv('df_tweets_sentiment.csv')\n",
        "print('Sentiment analysis completed at : ' + str(datetime.now()))\n",
        "\n"
      ],
      "execution_count": 33,
      "outputs": [
        {
          "output_type": "stream",
          "text": [
            "Sentiment analysis starting at : 2021-03-21 16:15:28.185288\n",
            "Sentiment analysis completed at : 2021-03-21 16:37:04.642169\n"
          ],
          "name": "stdout"
        }
      ]
    }
  ]
}